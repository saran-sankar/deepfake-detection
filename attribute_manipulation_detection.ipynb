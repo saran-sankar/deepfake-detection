{
 "cells": [
  {
   "cell_type": "code",
   "execution_count": 1,
   "metadata": {},
   "outputs": [],
   "source": [
    "import os\n",
    "import numpy as np\n",
    "from PIL import Image\n",
    "\n",
    "import torch\n",
    "from torch import nn\n",
    "\n",
    "import math\n",
    "import matplotlib.pyplot as plt\n",
    "import torchvision\n",
    "import torchvision.transforms as transforms\n",
    "import torchvision.transforms.functional as TF"
   ]
  },
  {
   "cell_type": "code",
   "execution_count": 2,
   "metadata": {},
   "outputs": [
    {
     "data": {
      "text/plain": [
       "<torch._C.Generator at 0x107a22d08>"
      ]
     },
     "execution_count": 2,
     "metadata": {},
     "output_type": "execute_result"
    }
   ],
   "source": [
    "torch.manual_seed(111)"
   ]
  },
  {
   "cell_type": "code",
   "execution_count": 3,
   "metadata": {},
   "outputs": [],
   "source": [
    "transform = transforms.Compose(\n",
    "    [transforms.ToTensor(), transforms.Normalize((0.5,), (0.5,))]\n",
    ")"
   ]
  },
  {
   "cell_type": "code",
   "execution_count": 4,
   "metadata": {},
   "outputs": [],
   "source": [
    "device = torch.device(\"cpu\")"
   ]
  },
  {
   "cell_type": "code",
   "execution_count": 5,
   "metadata": {},
   "outputs": [
    {
     "data": {
      "text/plain": [
       "9408"
      ]
     },
     "execution_count": 5,
     "metadata": {},
     "output_type": "execute_result"
    }
   ],
   "source": [
    "size = (56,56,3)\n",
    "pixels = size[0]*size[1]*size[2]\n",
    "pixels"
   ]
  },
  {
   "cell_type": "code",
   "execution_count": 6,
   "metadata": {},
   "outputs": [],
   "source": [
    "train_data_length = 4096\n",
    "train_data = torch.from_numpy(np.zeros((train_data_length, size[0], size[1], size[2])))\n",
    "dir_ = 'img_align_celeba'\n",
    "\n",
    "for i, image_name in enumerate(os.listdir(dir_)[:train_data_length]):\n",
    "    image = Image.open(dir_+'/'+image_name)\n",
    "    train_data[i] = torch.from_numpy(np.array(image.resize((size[0], size[1])))/256)\n",
    "    \n",
    "train_labels = torch.zeros(train_data_length)\n",
    "train_set = [\n",
    "    (train_data[i], train_labels[i]) for i in range(train_data_length)\n",
    "]"
   ]
  },
  {
   "cell_type": "code",
   "execution_count": 7,
   "metadata": {},
   "outputs": [
    {
     "data": {
      "text/plain": [
       "<matplotlib.image.AxesImage at 0x13c5fc198>"
      ]
     },
     "execution_count": 7,
     "metadata": {},
     "output_type": "execute_result"
    },
    {
     "data": {
      "image/png": "[encoded data removed]",
      "text/plain": [
       "<Figure size 432x288 with 1 Axes>"
      ]
     },
     "metadata": {
      "needs_background": "light"
     },
     "output_type": "display_data"
    }
   ],
   "source": [
    "plt.imshow((train_data[33]*256).int())"
   ]
  },
  {
   "cell_type": "code",
   "execution_count": 8,
   "metadata": {},
   "outputs": [],
   "source": [
    "batch_size = 32\n",
    "train_loader = torch.utils.data.DataLoader(\n",
    "    train_set, batch_size=batch_size, shuffle=True\n",
    ")"
   ]
  },
  {
   "cell_type": "code",
   "execution_count": 9,
   "metadata": {},
   "outputs": [],
   "source": [
    "class Discriminator(nn.Module):\n",
    "    def __init__(self):\n",
    "        super().__init__()\n",
    "        self.model = nn.Sequential(\n",
    "            nn.Linear(pixels, 1024),\n",
    "            nn.ReLU(),\n",
    "            nn.Dropout(0.3),\n",
    "            nn.Linear(1024, 512),\n",
    "            nn.ReLU(),\n",
    "            nn.Dropout(0.3),\n",
    "            nn.Linear(512, 256),\n",
    "            nn.ReLU(),\n",
    "            nn.Dropout(0.3),\n",
    "            nn.Linear(256, 1),\n",
    "            nn.Sigmoid(),\n",
    "         )\n",
    " \n",
    "    def forward(self, x):\n",
    "        x = x.view(x.size(0), pixels)\n",
    "        output = self.model(x)\n",
    "        return output"
   ]
  },
  {
   "cell_type": "code",
   "execution_count": 10,
   "metadata": {},
   "outputs": [],
   "source": [
    "discriminator = Discriminator().to(device=device)"
   ]
  },
  {
   "cell_type": "code",
   "execution_count": 11,
   "metadata": {},
   "outputs": [],
   "source": [
    "class Generator(nn.Module):\n",
    "    def __init__(self):\n",
    "        super().__init__()\n",
    "        self.model = nn.Sequential(\n",
    "            nn.Linear(100, 256),\n",
    "            nn.ReLU(),\n",
    "            nn.Linear(256, 512),\n",
    "            nn.ReLU(),\n",
    "            nn.Linear(512, 1024),\n",
    "            nn.ReLU(),\n",
    "            nn.Linear(1024, pixels),\n",
    "            nn.Sigmoid(),\n",
    "      )\n",
    "    def forward(self, x):\n",
    "        output = self.model(x)\n",
    "        output = output.view(x.size(0), size[0], size[1], size[2])\n",
    "        return output"
   ]
  },
  {
   "cell_type": "code",
   "execution_count": 12,
   "metadata": {},
   "outputs": [],
   "source": [
    "generator = Generator().to(device=device)"
   ]
  },
  {
   "cell_type": "code",
   "execution_count": 13,
   "metadata": {},
   "outputs": [],
   "source": [
    "lr = 0.001\n",
    "num_epochs = 50\n",
    "loss_function = nn.BCELoss()"
   ]
  },
  {
   "cell_type": "code",
   "execution_count": 14,
   "metadata": {},
   "outputs": [],
   "source": [
    "optimizer_discriminator = torch.optim.Adam(discriminator.parameters(), lr=lr)\n",
    "optimizer_generator = torch.optim.Adam(generator.parameters(), lr=lr)"
   ]
  },
  {
   "cell_type": "code",
   "execution_count": 15,
   "metadata": {},
   "outputs": [],
   "source": [
    "loss_G = []\n",
    "loss_D = []"
   ]
  },
  {
   "cell_type": "code",
   "execution_count": 16,
   "metadata": {},
   "outputs": [
    {
     "name": "stdout",
     "output_type": "stream",
     "text": [
      "Epoch: 0 Loss D.: 0.9926398396492004\n",
      "Epoch: 0 Loss G.: 0.9322584867477417\n",
      "Epoch: 1 Loss D.: 0.1456538289785385\n",
      "Epoch: 1 Loss G.: 6.197327136993408\n",
      "Epoch: 2 Loss D.: 0.3966393768787384\n",
      "Epoch: 2 Loss G.: 1.2766454219818115\n",
      "Epoch: 3 Loss D.: 0.0957372710108757\n",
      "Epoch: 3 Loss G.: 8.28142261505127\n",
      "Epoch: 4 Loss D.: 0.6578484177589417\n",
      "Epoch: 4 Loss G.: 0.7185588479042053\n",
      "Epoch: 5 Loss D.: 0.8361794352531433\n",
      "Epoch: 5 Loss G.: 0.7432605624198914\n",
      "Epoch: 6 Loss D.: 0.6356526017189026\n",
      "Epoch: 6 Loss G.: 0.7648487091064453\n",
      "Epoch: 7 Loss D.: 0.6067162156105042\n",
      "Epoch: 7 Loss G.: 1.9243614673614502\n",
      "Epoch: 8 Loss D.: 0.6864906549453735\n",
      "Epoch: 8 Loss G.: 0.71296626329422\n",
      "Epoch: 9 Loss D.: 0.6883190870285034\n",
      "Epoch: 9 Loss G.: 0.6521472334861755\n",
      "Epoch: 10 Loss D.: 0.6925132274627686\n",
      "Epoch: 10 Loss G.: 0.6867413520812988\n",
      "Epoch: 11 Loss D.: 0.6927033066749573\n",
      "Epoch: 11 Loss G.: 0.6746410131454468\n",
      "Epoch: 12 Loss D.: 0.6933525204658508\n",
      "Epoch: 12 Loss G.: 0.6833634376525879\n",
      "Epoch: 13 Loss D.: 0.6719006896018982\n",
      "Epoch: 13 Loss G.: 0.7029485702514648\n",
      "Epoch: 14 Loss D.: 0.6936364769935608\n",
      "Epoch: 14 Loss G.: 0.6988569498062134\n",
      "Epoch: 15 Loss D.: 0.6490569114685059\n",
      "Epoch: 15 Loss G.: 0.7161593437194824\n",
      "Epoch: 16 Loss D.: 0.73130863904953\n",
      "Epoch: 16 Loss G.: 1.0149855613708496\n",
      "Epoch: 17 Loss D.: 0.6952708959579468\n",
      "Epoch: 17 Loss G.: 0.7541536688804626\n",
      "Epoch: 18 Loss D.: 0.6938536167144775\n",
      "Epoch: 18 Loss G.: 0.7204484939575195\n",
      "Epoch: 19 Loss D.: 0.6943581104278564\n",
      "Epoch: 19 Loss G.: 0.7037408351898193\n",
      "Epoch: 20 Loss D.: 0.6931508779525757\n",
      "Epoch: 20 Loss G.: 0.69762122631073\n",
      "Epoch: 21 Loss D.: 0.6923445463180542\n",
      "Epoch: 21 Loss G.: 0.6960366368293762\n",
      "Epoch: 22 Loss D.: 0.6920395493507385\n",
      "Epoch: 22 Loss G.: 0.6956214904785156\n",
      "Epoch: 23 Loss D.: 0.6929461359977722\n",
      "Epoch: 23 Loss G.: 0.6900188326835632\n",
      "Epoch: 24 Loss D.: 0.6935839056968689\n",
      "Epoch: 24 Loss G.: 0.6904563903808594\n",
      "Epoch: 25 Loss D.: 0.6944583654403687\n",
      "Epoch: 25 Loss G.: 0.6946295499801636\n",
      "Epoch: 26 Loss D.: 0.6703458428382874\n",
      "Epoch: 26 Loss G.: 0.7591615915298462\n",
      "Epoch: 27 Loss D.: 0.6928464770317078\n",
      "Epoch: 27 Loss G.: 0.7133060693740845\n",
      "Epoch: 28 Loss D.: 0.6922767758369446\n",
      "Epoch: 28 Loss G.: 0.6980507373809814\n",
      "Epoch: 29 Loss D.: 0.6901439428329468\n",
      "Epoch: 29 Loss G.: 0.6684534549713135\n",
      "Epoch: 30 Loss D.: 0.6940152645111084\n",
      "Epoch: 30 Loss G.: 0.6907286047935486\n",
      "Epoch: 31 Loss D.: 0.6935047507286072\n",
      "Epoch: 31 Loss G.: 0.6937682628631592\n",
      "Epoch: 32 Loss D.: 0.6934894323348999\n",
      "Epoch: 32 Loss G.: 0.693189799785614\n",
      "Epoch: 33 Loss D.: 0.6947852373123169\n",
      "Epoch: 33 Loss G.: 0.6925601959228516\n",
      "Epoch: 34 Loss D.: 0.6934059858322144\n",
      "Epoch: 34 Loss G.: 0.6957038044929504\n",
      "Epoch: 35 Loss D.: 0.693375289440155\n",
      "Epoch: 35 Loss G.: 0.696377158164978\n",
      "Epoch: 36 Loss D.: 0.6927295327186584\n",
      "Epoch: 36 Loss G.: 0.6951746344566345\n",
      "Epoch: 37 Loss D.: 0.6929423809051514\n",
      "Epoch: 37 Loss G.: 0.6904653310775757\n",
      "Epoch: 38 Loss D.: 0.6931092143058777\n",
      "Epoch: 38 Loss G.: 0.6916006207466125\n",
      "Epoch: 39 Loss D.: 0.6930835247039795\n",
      "Epoch: 39 Loss G.: 0.6951957941055298\n",
      "Epoch: 40 Loss D.: 0.6934623718261719\n",
      "Epoch: 40 Loss G.: 0.6929138898849487\n",
      "Epoch: 41 Loss D.: 0.6926498413085938\n",
      "Epoch: 41 Loss G.: 0.6926615238189697\n",
      "Epoch: 42 Loss D.: 0.6936905980110168\n",
      "Epoch: 42 Loss G.: 0.6927458047866821\n",
      "Epoch: 43 Loss D.: 0.6932228207588196\n",
      "Epoch: 43 Loss G.: 0.692681074142456\n",
      "Epoch: 44 Loss D.: 0.6940377950668335\n",
      "Epoch: 44 Loss G.: 0.695080578327179\n",
      "Epoch: 45 Loss D.: 0.6925020217895508\n",
      "Epoch: 45 Loss G.: 0.6909881830215454\n",
      "Epoch: 46 Loss D.: 0.6933892965316772\n",
      "Epoch: 46 Loss G.: 0.6917736530303955\n",
      "Epoch: 47 Loss D.: 0.6934745907783508\n",
      "Epoch: 47 Loss G.: 0.6954110860824585\n",
      "Epoch: 48 Loss D.: 0.6930648684501648\n",
      "Epoch: 48 Loss G.: 0.6935939192771912\n",
      "Epoch: 49 Loss D.: 0.6922898292541504\n",
      "Epoch: 49 Loss G.: 0.6943119168281555\n"
     ]
    }
   ],
   "source": [
    "for epoch in range(num_epochs):\n",
    "    for n, (real_samples, useless_labels) in enumerate(train_loader):\n",
    "        # Data for training the discriminator\n",
    "        real_samples = real_samples.to(device=device)\n",
    "        real_samples_labels = torch.ones((batch_size, 1)).to(\n",
    "            device=device\n",
    "        )\n",
    "        latent_space_samples = torch.rand((batch_size, 100)).to(\n",
    "            device=device\n",
    "        )\n",
    "        generated_samples = generator(latent_space_samples)\n",
    "        generated_samples_labels = torch.zeros((batch_size, 1)).to(\n",
    "            device=device\n",
    "        )\n",
    "        all_samples = torch.cat((real_samples, generated_samples))\n",
    "        all_samples_labels = torch.cat(\n",
    "            (real_samples_labels, generated_samples_labels)\n",
    "        )\n",
    "\n",
    "        # Training the discriminator\n",
    "        discriminator.zero_grad()\n",
    "        output_discriminator = discriminator(all_samples.float())\n",
    "        loss_discriminator = loss_function(\n",
    "            output_discriminator, all_samples_labels\n",
    "        )\n",
    "        loss_discriminator.backward()\n",
    "        optimizer_discriminator.step()\n",
    "        \n",
    "        # Data for training the generator\n",
    "        latent_space_samples = torch.rand((batch_size, 100)).to(\n",
    "            device=device\n",
    "        )\n",
    "\n",
    "        # Training the generator\n",
    "        generator.zero_grad()\n",
    "        generated_samples = generator(latent_space_samples)\n",
    "        output_discriminator_generated = discriminator(generated_samples)\n",
    "        loss_generator = loss_function(\n",
    "            output_discriminator_generated, real_samples_labels\n",
    "        )\n",
    "        loss_generator.backward()\n",
    "        optimizer_generator.step()\n",
    "\n",
    "        # Show loss\n",
    "        if n == batch_size - 1:\n",
    "            print(f\"Epoch: {epoch} Loss D.: {loss_discriminator}\")\n",
    "            loss_D.append(loss_discriminator)\n",
    "            print(f\"Epoch: {epoch} Loss G.: {loss_generator}\")\n",
    "            loss_G.append(loss_generator)"
   ]
  },
  {
   "cell_type": "code",
   "execution_count": 24,
   "metadata": {},
   "outputs": [
    {
     "data": {
      "text/plain": [
       "tensor([[0.4997],\n",
       "        [0.4976],\n",
       "        [0.4996],\n",
       "        [0.4961],\n",
       "        [0.5032],\n",
       "        [0.4987],\n",
       "        [0.5026],\n",
       "        [0.4955],\n",
       "        [0.5021],\n",
       "        [0.5011],\n",
       "        [0.4988],\n",
       "        [0.5010],\n",
       "        [0.4991],\n",
       "        [0.5024],\n",
       "        [0.4955],\n",
       "        [0.4952],\n",
       "        [0.4990],\n",
       "        [0.5035],\n",
       "        [0.5005],\n",
       "        [0.5006],\n",
       "        [0.4978],\n",
       "        [0.5022],\n",
       "        [0.4978],\n",
       "        [0.5009],\n",
       "        [0.5008],\n",
       "        [0.5010],\n",
       "        [0.4992],\n",
       "        [0.4986],\n",
       "        [0.5006],\n",
       "        [0.5013],\n",
       "        [0.4990],\n",
       "        [0.4985]], grad_fn=<SigmoidBackward>)"
      ]
     },
     "execution_count": 24,
     "metadata": {},
     "output_type": "execute_result"
    }
   ],
   "source": [
    "discriminator(generated_samples.float())"
   ]
  },
  {
   "cell_type": "code",
   "execution_count": 18,
   "metadata": {},
   "outputs": [
    {
     "data": {
      "text/plain": [
       "tensor([[0.4997],\n",
       "        [0.5011],\n",
       "        [0.5026],\n",
       "        [0.4994],\n",
       "        [0.4994],\n",
       "        [0.5026],\n",
       "        [0.5011],\n",
       "        [0.4997],\n",
       "        [0.4949],\n",
       "        [0.5001],\n",
       "        [0.5012],\n",
       "        [0.4975],\n",
       "        [0.4980],\n",
       "        [0.4966],\n",
       "        [0.5026],\n",
       "        [0.4958],\n",
       "        [0.4988],\n",
       "        [0.5009],\n",
       "        [0.4992],\n",
       "        [0.4982],\n",
       "        [0.4969],\n",
       "        [0.4995],\n",
       "        [0.5030],\n",
       "        [0.4990],\n",
       "        [0.4990],\n",
       "        [0.5005],\n",
       "        [0.4991],\n",
       "        [0.5010],\n",
       "        [0.5011],\n",
       "        [0.5024],\n",
       "        [0.4958],\n",
       "        [0.4997]], grad_fn=<SigmoidBackward>)"
      ]
     },
     "execution_count": 18,
     "metadata": {},
     "output_type": "execute_result"
    }
   ],
   "source": [
    "discriminator(real_samples.float())"
   ]
  },
  {
   "cell_type": "code",
   "execution_count": 25,
   "metadata": {},
   "outputs": [
    {
     "data": {
      "image/png": "[encoded data removed]",
      "text/plain": [
       "<Figure size 432x288 with 8 Axes>"
      ]
     },
     "metadata": {},
     "output_type": "display_data"
    }
   ],
   "source": [
    "generated_samples = generated_samples.cpu().detach()\n",
    "for i in range(8):\n",
    "    ax = plt.subplot(4, 4, i + 1)\n",
    "    plt.imshow((generated_samples[i]*256).int())\n",
    "    plt.xticks([])\n",
    "    plt.yticks([])"
   ]
  },
  {
   "cell_type": "code",
   "execution_count": 26,
   "metadata": {},
   "outputs": [
    {
     "data": {
      "text/plain": [
       "<matplotlib.image.AxesImage at 0x1529e87b8>"
      ]
     },
     "execution_count": 26,
     "metadata": {},
     "output_type": "execute_result"
    },
    {
     "data": {
      "image/png": "[encoded data removed]",
      "text/plain": [
       "<Figure size 432x288 with 1 Axes>"
      ]
     },
     "metadata": {
      "needs_background": "light"
     },
     "output_type": "display_data"
    }
   ],
   "source": [
    "plt.imshow((generated_samples[30]*256).int())"
   ]
  },
  {
   "cell_type": "code",
   "execution_count": null,
   "metadata": {},
   "outputs": [],
   "source": []
  }
 ],
 "metadata": {
  "kernelspec": {
   "display_name": "Python 3",
   "language": "python",
   "name": "python3"
  },
  "language_info": {
   "codemirror_mode": {
    "name": "ipython",
    "version": 3
   },
   "file_extension": ".py",
   "mimetype": "text/x-python",
   "name": "python",
   "nbconvert_exporter": "python",
   "pygments_lexer": "ipython3",
   "version": "3.6.3"
  }
 },
 "nbformat": 4,
 "nbformat_minor": 2
}
